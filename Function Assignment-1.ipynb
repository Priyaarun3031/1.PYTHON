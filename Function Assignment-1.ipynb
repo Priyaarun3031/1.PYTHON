{
 "cells": [
  {
   "cell_type": "code",
   "execution_count": 55,
   "id": "b659d5a7-eabd-40c9-9946-d667a01c2e45",
   "metadata": {},
   "outputs": [],
   "source": [
    "class AISubfields():\n",
    "    def AISubfields():\n",
    "        lists=(\"Machine Learning,Neural Networks,Vision,Robotics,Speech Processing,NaturalLanguageProcessing\")\n",
    "    def display_AISubfields():\n",
    "        print(\"Sub-fields in AI are: \")\n",
    "        for items in lists:\n",
    "            print(item)\n",
    "        return AISubfields()            "
   ]
  },
  {
   "cell_type": "code",
   "execution_count": 61,
   "id": "b46aea2e-fc32-4eac-a20e-36d71cc6a763",
   "metadata": {},
   "outputs": [
    {
     "ename": "NameError",
     "evalue": "name 'display_AISubfields' is not defined",
     "output_type": "error",
     "traceback": [
      "\u001b[1;31m---------------------------------------------------------------------------\u001b[0m",
      "\u001b[1;31mNameError\u001b[0m                                 Traceback (most recent call last)",
      "Cell \u001b[1;32mIn[61], line 2\u001b[0m\n\u001b[0;32m      1\u001b[0m AISubfields()\n\u001b[1;32m----> 2\u001b[0m display_AISubfields()\n",
      "\u001b[1;31mNameError\u001b[0m: name 'display_AISubfields' is not defined"
     ]
    }
   ],
   "source": [
    "AISubfields()\n",
    "display_AISubfields()"
   ]
  },
  {
   "cell_type": "code",
   "execution_count": null,
   "id": "4d4eba9b-b0da-4f6b-bcb4-bf254348d0f1",
   "metadata": {},
   "outputs": [],
   "source": []
  }
 ],
 "metadata": {
  "kernelspec": {
   "display_name": "Python 3 (ipykernel)",
   "language": "python",
   "name": "python3"
  },
  "language_info": {
   "codemirror_mode": {
    "name": "ipython",
    "version": 3
   },
   "file_extension": ".py",
   "mimetype": "text/x-python",
   "name": "python",
   "nbconvert_exporter": "python",
   "pygments_lexer": "ipython3",
   "version": "3.12.7"
  }
 },
 "nbformat": 4,
 "nbformat_minor": 5
}
