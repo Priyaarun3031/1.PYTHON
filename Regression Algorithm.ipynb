{
 "cells": [
  {
   "cell_type": "code",
   "execution_count": 5,
   "id": "e78d0702-7671-472f-9806-e48b8c694e8b",
   "metadata": {},
   "outputs": [],
   "source": [
    "import pandas as pd"
   ]
  },
  {
   "cell_type": "code",
   "execution_count": 7,
   "id": "7347e837-915d-4a6f-b40a-051e85673b19",
   "metadata": {},
   "outputs": [],
   "source": [
    "dataset= pd.read_csv(\"insurance_pre.csv\")"
   ]
  },
  {
   "cell_type": "code",
   "execution_count": 13,
   "id": "167a5fb2-0d6b-4f68-abd0-cb78607137d4",
   "metadata": {},
   "outputs": [
    {
     "data": {
      "text/plain": [
       "Index(['age', 'sex', 'bmi', 'children', 'smoker', 'charges'], dtype='object')"
      ]
     },
     "execution_count": 13,
     "metadata": {},
     "output_type": "execute_result"
    }
   ],
   "source": [
    "dataset.columns"
   ]
  },
  {
   "cell_type": "code",
   "execution_count": 15,
   "id": "8337cb62-2137-4752-af75-09c61456e776",
   "metadata": {},
   "outputs": [],
   "source": [
    "dataset = pd.get_dummies(dataset, columns=['sex', 'smoker'], drop_first=True)"
   ]
  },
  {
   "cell_type": "code",
   "execution_count": 45,
   "id": "99e86fcc-209d-4b0c-b73d-53a2a19dcf79",
   "metadata": {},
   "outputs": [],
   "source": [
    "X = dataset.drop('charges', axis=1)\n",
    "Y = dataset['charges']"
   ]
  },
  {
   "cell_type": "code",
   "execution_count": 49,
   "id": "d3e06a47-0e60-48fa-a636-9cf98737fb76",
   "metadata": {},
   "outputs": [],
   "source": [
    "from sklearn.model_selection import train_test_split\n",
    "X_train, X_test, y_train, y_test= train_test_split(X, Y, test_size=0.30, random_state=0)"
   ]
  },
  {
   "cell_type": "code",
   "execution_count": 67,
   "id": "407d2200-bdcf-434f-9f4e-61a1a6691eff",
   "metadata": {},
   "outputs": [],
   "source": [
    "from sklearn.tree import DecisionTreeRegressor\n",
    "from sklearn.linear_model import LinearRegression\n",
    "from sklearn.ensemble import RandomForestRegressor\n",
    "from sklearn.tree import DecisionTreeRegressor\n",
    "from sklearn.svm import SVR\n",
    "from sklearn.metrics import r2_score"
   ]
  },
  {
   "cell_type": "code",
   "execution_count": 69,
   "id": "3d1e3c34-edfc-4287-b110-a9c4f19c9b52",
   "metadata": {},
   "outputs": [],
   "source": [
    "results = []"
   ]
  },
  {
   "cell_type": "code",
   "execution_count": 110,
   "id": "9a879b06-25b5-490c-8f4a-35c78be2cf6b",
   "metadata": {},
   "outputs": [],
   "source": [
    "#To train model for Decision tree\n",
    "dt=DecisionTreeRegressor(criterion='poisson', splitter='random', max_features='sqrt')\n",
    "dt=regressor.fit(X_train,y_train)\n",
    "results.append(('dt', r2_score(y_test, dt.predict(X_test))))\n",
    "\n",
    "#To train model for Multiple linear Regression\n",
    "lr=LinearRegression()\n",
    "lr=lr.fit(X_train,y_train)\n",
    "results.append(('lr', r2_score(y_test, lr.predict(X_test))))\n",
    "\n",
    "#To train model for Random Forest Algorithm\n",
    "rfr=RandomForestRegressor(n_estimators=75, max_features='sqrt')\n",
    "rfr=rfr.fit(X_train,y_train)\n",
    "results.append(('rfr', r2_score(y_test, rfr.predict(X_test))))\n",
    "\n",
    "#To train model for Support Vector Machine\n",
    "svr=SVR(kernel='rbf')\n",
    "svr=svr.fit(X_train,y_train)\n",
    "results.append(('svr', r2_score(y_test, svr.predict(X_test))))"
   ]
  },
  {
   "cell_type": "code",
   "execution_count": 112,
   "id": "b801b202-d47f-438f-b53f-1d0c01d4ff22",
   "metadata": {},
   "outputs": [
    {
     "name": "stdout",
     "output_type": "stream",
     "text": [
      "   Model  R2_Score\n",
      "0     dt  0.789479\n",
      "1     lr  0.789479\n",
      "2    rfr  0.868499\n",
      "3    svr -0.088427\n",
      "4     dt  0.789479\n",
      "5     lr  0.789479\n",
      "6    rfr  0.868547\n",
      "7    svr -0.088427\n",
      "8     dt  0.789479\n",
      "9     lr  0.789479\n",
      "10   rfr  0.871676\n",
      "11   svr -0.088427\n",
      "12    dt  0.789479\n",
      "13    lr  0.789479\n",
      "14   rfr  0.870007\n",
      "15   svr -0.088427\n",
      "16    dt  0.789479\n",
      "17    lr  0.789479\n",
      "18   rfr  0.871073\n",
      "19   svr -0.088427\n",
      "20    dt  0.789479\n",
      "21    lr  0.789479\n",
      "22   rfr  0.872540\n",
      "23   svr -0.088427\n",
      "24    dt  0.789479\n",
      "25    lr  0.789479\n",
      "26   rfr  0.870155\n",
      "27   svr -0.088427\n",
      "28    dt  0.789479\n",
      "29    lr  0.789479\n",
      "30   rfr  0.868052\n",
      "31   svr -0.088427\n",
      "32    dt  0.789479\n",
      "33    lr  0.789479\n",
      "34   rfr  0.865566\n",
      "35   svr -0.088427\n",
      "36    dt  0.789479\n",
      "37    lr  0.789479\n",
      "38   rfr  0.872202\n",
      "39   svr -0.088427\n"
     ]
    }
   ],
   "source": [
    "results_df = pd.DataFrame(results, columns=['Model', 'R2_Score'])\n",
    "print(results_df)"
   ]
  },
  {
   "cell_type": "code",
   "execution_count": 114,
   "id": "05f9b8af-f7ab-41be-9282-41bab86fd39d",
   "metadata": {},
   "outputs": [
    {
     "name": "stdout",
     "output_type": "stream",
     "text": [
      "  Model  R2_Score\n",
      "0    dt  0.789479\n",
      "1    lr  0.789479\n",
      "2   rfr  0.872202\n",
      "3   svr -0.088427\n"
     ]
    }
   ],
   "source": [
    "latest_results = results_df.groupby('Model', as_index=False).last()\n",
    "print(latest_results)"
   ]
  },
  {
   "cell_type": "code",
   "execution_count": 122,
   "id": "075bb4dd-9fff-4661-b8e2-3d2228b2b32e",
   "metadata": {},
   "outputs": [],
   "source": [
    "import pickle\n",
    "filename=\"Finalised_model.Insurance charges.RF.sav\"\n",
    "pickle.dump(rfr,open(filename, \"wb\"))\n",
    "loaded_model=pickle.load(open(filename, \"rb\"))"
   ]
  },
  {
   "cell_type": "code",
   "execution_count": null,
   "id": "b0e41e3c-c34b-4c0b-a382-0597b601d1c2",
   "metadata": {},
   "outputs": [],
   "source": []
  }
 ],
 "metadata": {
  "kernelspec": {
   "display_name": "Python 3 (ipykernel)",
   "language": "python",
   "name": "python3"
  },
  "language_info": {
   "codemirror_mode": {
    "name": "ipython",
    "version": 3
   },
   "file_extension": ".py",
   "mimetype": "text/x-python",
   "name": "python",
   "nbconvert_exporter": "python",
   "pygments_lexer": "ipython3",
   "version": "3.12.7"
  }
 },
 "nbformat": 4,
 "nbformat_minor": 5
}
