{
 "cells": [
  {
   "cell_type": "code",
   "execution_count": 15,
   "id": "d18f9134-2113-4be8-9f83-d2df6c2e2841",
   "metadata": {},
   "outputs": [],
   "source": [
    "from Multiplefunctions import multiplefunctionstest"
   ]
  },
  {
   "cell_type": "code",
   "execution_count": 17,
   "id": "f3646c32-81e9-4f8e-a1dd-718cf6c36546",
   "metadata": {},
   "outputs": [
    {
     "name": "stdin",
     "output_type": "stream",
     "text": [
      "Enter the Number:  6\n"
     ]
    },
    {
     "name": "stdout",
     "output_type": "stream",
     "text": [
      "The given number is even\n"
     ]
    },
    {
     "data": {
      "text/plain": [
       "'This number is even'"
      ]
     },
     "execution_count": 17,
     "metadata": {},
     "output_type": "execute_result"
    }
   ],
   "source": [
    "multiplefunctionstest.OddEven()"
   ]
  },
  {
   "cell_type": "code",
   "execution_count": null,
   "id": "c8754dac-99fb-48ce-a2ab-c8fc80b6a5b8",
   "metadata": {},
   "outputs": [],
   "source": [
    "multiplefunctionstest.OddEven()"
   ]
  }
 ],
 "metadata": {
  "kernelspec": {
   "display_name": "Python 3 (ipykernel)",
   "language": "python",
   "name": "python3"
  },
  "language_info": {
   "codemirror_mode": {
    "name": "ipython",
    "version": 3
   },
   "file_extension": ".py",
   "mimetype": "text/x-python",
   "name": "python",
   "nbconvert_exporter": "python",
   "pygments_lexer": "ipython3",
   "version": "3.12.7"
  }
 },
 "nbformat": 4,
 "nbformat_minor": 5
}
