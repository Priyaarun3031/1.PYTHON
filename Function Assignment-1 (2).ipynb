{
 "cells": [
  {
   "cell_type": "code",
   "execution_count": null,
   "id": "b659d5a7-eabd-40c9-9946-d667a01c2e45",
   "metadata": {},
   "outputs": [],
   "source": [
    "class AISubfields():\n",
    "    def __init__(self):\n",
    "        self.lists=(\"Machine Learning\", \"Neural Networks\", \"Vision\", \"Robotics\", \"Speech Processing\", \"NaturalLanguageProcessing\")\n",
    "    def display_AISubfields(self):\n",
    "        print(\"Sub-fields in AI are: \")\n",
    "        for item in self.lists:\n",
    "            print(item)\n",
    "ai_subFields = AISubfields()         \n",
    "ai_subFields.display_AISubfields()"
   ]
  },
  {
   "cell_type": "code",
   "execution_count": 23,
   "id": "951d641c-fb85-4a81-b0ba-ee3c76a5dc17",
   "metadata": {},
   "outputs": [],
   "source": [
    "def OddEven():    \n",
    "    number=int(input(\"Enter the Number: \"))\n",
    "    if number%2==0:\n",
    "        print(\"The given number is even\")\n",
    "        message=(\"This number is even\")\n",
    "    else:\n",
    "        print(\"The given number is odd\")\n",
    "        message=(\"This number is odd\")\n",
    "    return message"
   ]
  },
  {
   "cell_type": "code",
   "execution_count": 41,
   "id": "746e5fe9-6e4d-45b3-9088-9119a909d982",
   "metadata": {},
   "outputs": [
    {
     "name": "stdin",
     "output_type": "stream",
     "text": [
      "Enter the Number:  52452\n"
     ]
    },
    {
     "name": "stdout",
     "output_type": "stream",
     "text": [
      "The given number is even\n"
     ]
    }
   ],
   "source": [
    "message=OddEven()"
   ]
  },
  {
   "cell_type": "code",
   "execution_count": 43,
   "id": "4577dc4b-9234-44ac-a8ec-f5af426ff80d",
   "metadata": {},
   "outputs": [
    {
     "name": "stdout",
     "output_type": "stream",
     "text": [
      "The given number is even\n"
     ]
    }
   ],
   "source": [
    "if (message==\"This number is even\"):\n",
    "    print(\"The given number is even\")\n",
    "else:\n",
    "    print(\"The given number is odd\")"
   ]
  },
  {
   "cell_type": "code",
   "execution_count": 85,
   "id": "d8312246-de74-45f3-aa52-308845f8c7ab",
   "metadata": {},
   "outputs": [],
   "source": [
    "#ElegiblityForMarriage.Elegible()\n",
    "#Your Gender:Male\n",
    "#Your Age:20\n",
    "#NOT ELIGIBLE\n",
    "\n",
    "def eligibilityformarriage():  \n",
    "    age=int(input(\"Enter your age\"))\n",
    "    if age==20:\n",
    "        print(\"Not Eligible for Marriage\")\n",
    "        eligibilitycat=(\"you are not eligible\")\n",
    "    elif age>>20:\n",
    "        print(\"Eligible\")\n",
    "        eligibilitycat=(\"you are eligible\")\n",
    "    else:\n",
    "        print(\"Not Eligible\")\n",
    "        eligibilitycat=(\"you are not eligible\")\n",
    "        return eligibilitycat"
   ]
  },
  {
   "cell_type": "code",
   "execution_count": 95,
   "id": "7d156099-92f0-453c-a365-f2dfd093f798",
   "metadata": {},
   "outputs": [
    {
     "name": "stdin",
     "output_type": "stream",
     "text": [
      "Enter your age 20\n"
     ]
    },
    {
     "name": "stdout",
     "output_type": "stream",
     "text": [
      "Not Eligible for Marriage\n"
     ]
    }
   ],
   "source": [
    "eligibilitycat=eligibilityformarriage()"
   ]
  },
  {
   "cell_type": "code",
   "execution_count": 166,
   "id": "76c910a3-c281-406b-864f-152dbcab967b",
   "metadata": {},
   "outputs": [],
   "source": [
    "# calculate the percentage of your 10th mark\n",
    "#FindPercent.percentage()\n",
    "# Subject1= 98\n",
    "# Subject2= 87\n",
    "# Subject3= 95\n",
    "# Subject4= 95\n",
    "# Subject5= 93\n",
    "# Total : 468\n",
    "# Percentage : 93.60000000000001\n",
    "\n",
    "def findpercentage():\n",
    "    subject1= 98\n",
    "    subject2= 87\n",
    "    subject3= 95\n",
    "    subject4= 95\n",
    "    subject5= 93  \n",
    "    maximummarks=500 \n",
    "    totalmarks=subject1 + subject2 + subject3 + subject4 + subject5\n",
    "    percentage = (totalmarks / maximummarks) * 100  \n",
    "    print(\"Percentage:\", percentage)  \n",
    "    "
   ]
  },
  {
   "cell_type": "code",
   "execution_count": 168,
   "id": "d2f561a1-db64-47f0-a40d-8aebf66fcc2f",
   "metadata": {},
   "outputs": [
    {
     "name": "stdout",
     "output_type": "stream",
     "text": [
      "Percentage: 93.60000000000001\n"
     ]
    }
   ],
   "source": [
    "findpercentage()"
   ]
  },
  {
   "cell_type": "code",
   "execution_count": null,
   "id": "e6928d16-5326-4956-a183-3f5550c0d37d",
   "metadata": {},
   "outputs": [],
   "source": [
    "#print area and perimeter of triangle using class and functions\n",
    "#triangle.triangle()\n",
    "# Height:32\n",
    "# Breadth:34\n",
    "# Area formula: (Height*Breadth)/2\n",
    "# Area of Triangle: 544.0\n",
    "# Height1:2\n",
    "# Height2:4\n",
    "# Breadth:4\n",
    "# Perimeter formula: Height1+Height2+Breadth\n",
    "# Perimeter of Triangle: 10\n",
    "\n"
   ]
  }
 ],
 "metadata": {
  "kernelspec": {
   "display_name": "Python 3 (ipykernel)",
   "language": "python",
   "name": "python3"
  },
  "language_info": {
   "codemirror_mode": {
    "name": "ipython",
    "version": 3
   },
   "file_extension": ".py",
   "mimetype": "text/x-python",
   "name": "python",
   "nbconvert_exporter": "python",
   "pygments_lexer": "ipython3",
   "version": "3.12.7"
  }
 },
 "nbformat": 4,
 "nbformat_minor": 5
}
