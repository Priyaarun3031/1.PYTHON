{
 "cells": [
  {
   "cell_type": "code",
   "execution_count": 1,
   "id": "692b14b3-0d55-4fac-a268-ed477c92c26a",
   "metadata": {},
   "outputs": [
    {
     "name": "stdin",
     "output_type": "stream",
     "text": [
      "Enter your age: 18\n"
     ]
    }
   ],
   "source": [
    "age=int(input(\"Enter your age:\"))"
   ]
  },
  {
   "cell_type": "code",
   "execution_count": null,
   "id": "e18872d9-14f8-495f-ab16-4ebc1a220ad0",
   "metadata": {},
   "outputs": [],
   "source": []
  },
  {
   "cell_type": "code",
   "execution_count": 3,
   "id": "3fa88fcb-db69-47bf-bd72-dd0797f47895",
   "metadata": {},
   "outputs": [
    {
     "ename": "SyntaxError",
     "evalue": "incomplete input (775920957.py, line 1)",
     "output_type": "error",
     "traceback": [
      "\u001b[1;36m  Cell \u001b[1;32mIn[3], line 1\u001b[1;36m\u001b[0m\n\u001b[1;33m    if age==18:\u001b[0m\n\u001b[1;37m               ^\u001b[0m\n\u001b[1;31mSyntaxError\u001b[0m\u001b[1;31m:\u001b[0m incomplete input\n"
     ]
    }
   ],
   "source": [
    "if age==18:"
   ]
  },
  {
   "cell_type": "code",
   "execution_count": 7,
   "id": "17518937-dd2d-480c-be58-8e9da27eaf08",
   "metadata": {},
   "outputs": [
    {
     "name": "stdout",
     "output_type": "stream",
     "text": [
      "adult\n"
     ]
    }
   ],
   "source": [
    "print(\"adult\")"
   ]
  },
  {
   "cell_type": "code",
   "execution_count": 19,
   "id": "dc1fbdb4-20ef-45bf-9833-63ad3d6bfec0",
   "metadata": {},
   "outputs": [
    {
     "name": "stdin",
     "output_type": "stream",
     "text": [
      "Enter your age: 18\n"
     ]
    },
    {
     "name": "stdout",
     "output_type": "stream",
     "text": [
      "You are an Adult\n"
     ]
    }
   ],
   "source": [
    "#condition is if age is less than 18 print child and if age is greater than or equal to 18 print adult\n",
    "age=(int(input(\"Enter your age:\")))\n",
    "if age>18:\n",
    "     print(\"You are a Child\")\n",
    "else:\n",
    "     print(\"You are an Adult\")\n",
    "    \n"
   ]
  },
  {
   "cell_type": "code",
   "execution_count": 45,
   "id": "364ee54f-b402-406e-9b5f-2f60953f4fed",
   "metadata": {},
   "outputs": [
    {
     "name": "stdin",
     "output_type": "stream",
     "text": [
      "Enter your age: 35\n"
     ]
    },
    {
     "name": "stdout",
     "output_type": "stream",
     "text": [
      "You are an adult\n"
     ]
    }
   ],
   "source": [
    "#if age<18 = child, age<35 - adult,age<59, age>59 - senior citizen\n",
    "age=(int(input(\"Enter your age:\")))\n",
    "if age<=18:\n",
    "         print(\"You are a Child\")\n",
    "elif age>=18 and age<=35:\n",
    "    print(\"You are an adult\") \n",
    "elif age>=35 and age<59:\n",
    "        print(\"You are an citizen\")\n",
    "else:\n",
    "    print(\"You are a senior citizen\")\n",
    "\n",
    "          \n"
   ]
  },
  {
   "cell_type": "code",
   "execution_count": 47,
   "id": "fc8ba539-479f-4f31-8486-25cde19eabc1",
   "metadata": {},
   "outputs": [
    {
     "name": "stdout",
     "output_type": "stream",
     "text": [
      "27\n",
      "87\n",
      "29\n",
      "90\n",
      "21\n"
     ]
    }
   ],
   "source": [
    "lists=[27,87,29,90,21]\n",
    "for temp in lists:\n",
    "    print(temp)"
   ]
  },
  {
   "cell_type": "code",
   "execution_count": 52,
   "id": "c151b4cd-3280-4640-ab9e-528a4a62f84c",
   "metadata": {},
   "outputs": [
    {
     "name": "stdout",
     "output_type": "stream",
     "text": [
      "You are an adult\n",
      "You are a senior citizen\n",
      "You are an adult\n",
      "You are a senior citizen\n",
      "You are an adult\n"
     ]
    }
   ],
   "source": [
    "for age in lists:\n",
    "    if age<=18:\n",
    "         print(\"You are a Child\")\n",
    "    elif age>=18 and age<=35:\n",
    "         print(\"You are an adult\") \n",
    "    elif age>=35 and age<59:\n",
    "         print(\"You are an citizen\")\n",
    "    else:\n",
    "         print(\"You are a senior citizen\")\n",
    "            "
   ]
  },
  {
   "cell_type": "code",
   "execution_count": 54,
   "id": "808588b7-830a-4030-8a73-7bee65ce3bb2",
   "metadata": {},
   "outputs": [],
   "source": [
    "#if you get remainder as 1, it is odd number or else even number if the remainder is 0\n",
    "#2/2=0, if reminder is o means even number, reminder 1 means odd number"
   ]
  },
  {
   "cell_type": "code",
   "execution_count": 80,
   "id": "c18d3eeb-7fd0-4b15-a651-2a22f7c2e733",
   "metadata": {},
   "outputs": [
    {
     "name": "stdin",
     "output_type": "stream",
     "text": [
      "Enter the Number:  13\n"
     ]
    },
    {
     "name": "stdout",
     "output_type": "stream",
     "text": [
      "The given number is odd\n"
     ]
    }
   ],
   "source": [
    "number=int(input(\"Enter the Number: \"))\n",
    "if number%2==0:\n",
    "    print(\"The given number is even\")\n",
    "else:\n",
    "    print(\"The given number is odd\")\n"
   ]
  },
  {
   "cell_type": "code",
   "execution_count": 130,
   "id": "540c46d5-d7f3-4f2b-b52a-3a560bf10ba3",
   "metadata": {},
   "outputs": [
    {
     "name": "stdin",
     "output_type": "stream",
     "text": [
      "Enter your Name:  Arun\n",
      "Enter your Age:  35\n",
      "Enter your Sugar level:  110\n"
     ]
    },
    {
     "name": "stdout",
     "output_type": "stream",
     "text": [
      "You are Normal, Enjoy your life\n"
     ]
    }
   ],
   "source": [
    "#to find out if a person is diabletic or not, if fasting sugar<120, then not diabetic, if fasting sugar is between 120-170, then pre-diabletic, else normal\n",
    "person=(input(\"Enter your Name: \"))\n",
    "age=int(input(\"Enter your Age: \"))\n",
    "fastingsugar=int(input(\"Enter your Sugar level: \"))\n",
    "if fastingsugar<120:\n",
    "    print(\"You are Normal, Enjoy your life\")\n",
    "elif fastingsugar>120 and fastingsugar<170:\n",
    "    print(\"You are Pre Diabletic, please make lifestyle changes and healthy diet to prevent diabetes\")\n",
    "else:\n",
    "    print(\"You are Diabletic, please take proper Medication\")"
   ]
  },
  {
   "cell_type": "code",
   "execution_count": 124,
   "id": "d7726a10-efd8-4d00-a5de-ead35cf125b2",
   "metadata": {},
   "outputs": [
    {
     "name": "stdout",
     "output_type": "stream",
     "text": [
      "20\n",
      "25\n"
     ]
    }
   ],
   "source": [
    "#range function practice\n",
    "for num in range(20,30,5):\n",
    "    print(num)\n",
    "    \n"
   ]
  },
  {
   "cell_type": "code",
   "execution_count": null,
   "id": "a17d3325-c1ac-4d90-b069-28ba538fe2e6",
   "metadata": {},
   "outputs": [],
   "source": []
  }
 ],
 "metadata": {
  "kernelspec": {
   "display_name": "Python 3 (ipykernel)",
   "language": "python",
   "name": "python3"
  },
  "language_info": {
   "codemirror_mode": {
    "name": "ipython",
    "version": 3
   },
   "file_extension": ".py",
   "mimetype": "text/x-python",
   "name": "python",
   "nbconvert_exporter": "python",
   "pygments_lexer": "ipython3",
   "version": "3.12.7"
  }
 },
 "nbformat": 4,
 "nbformat_minor": 5
}
