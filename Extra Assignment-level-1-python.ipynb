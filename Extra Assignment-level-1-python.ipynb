{
 "cells": [
  {
   "cell_type": "code",
   "execution_count": null,
   "id": "afe88a04-da5f-4c16-96f5-c8454bddbc01",
   "metadata": {},
   "outputs": [],
   "source": [
    "#print Statement\n",
    "#HOPE AI\n",
    "#Solution:\n",
    "print(\"HOPE AI\")"
   ]
  },
  {
   "cell_type": "code",
   "execution_count": 3,
   "id": "752a08f1-ddd6-49ea-b84c-e067353d931d",
   "metadata": {},
   "outputs": [
    {
     "name": "stdin",
     "output_type": "stream",
     "text": [
      "Enter your institute name? :  HOPE AI\n"
     ]
    },
    {
     "name": "stdout",
     "output_type": "stream",
     "text": [
      "Institute Name : HOPE AI\n"
     ]
    }
   ],
   "source": [
    "# Buy input \n",
    "#Enter your institute name? : HOPE AI\n",
    "#Solution:\n",
    "InsName=input(\"Enter your institute name? : \")\n",
    "print(\"Institute Name :\",InsName)"
   ]
  },
  {
   "cell_type": "code",
   "execution_count": 7,
   "id": "57f42978-88cb-4f6e-92b4-1262d15c18a8",
   "metadata": {},
   "outputs": [
    {
     "name": "stdin",
     "output_type": "stream",
     "text": [
      "Enter your name:  Priya\n",
      "Enter your age:  35\n",
      "Enter your school name:  Mahatma Matric Hr Sec School\n",
      "Enter your drgree:  BSC\n"
     ]
    }
   ],
   "source": [
    "#Buy inputs\n",
    "#Enter your name: Raj\n",
    "#Enter your age: 15\n",
    "#Enter your school name: Guru school\n",
    "#Enter your drgree: B.E CSE\n",
    "#Solution:\n",
    "Name=input(\"Enter your name: \")\n",
    "Age=int(input(\"Enter your age: \"))\n",
    "School=input(\"Enter your school name: \")\n",
    "Degree=input(\"Enter your drgree: \")\n",
    "\n"
   ]
  },
  {
   "cell_type": "code",
   "execution_count": 17,
   "id": "1ad367f0-8f4e-479f-804e-e60db1207f3b",
   "metadata": {},
   "outputs": [
    {
     "name": "stdout",
     "output_type": "stream",
     "text": [
      "add =  77\n"
     ]
    }
   ],
   "source": [
    "#Addition\n",
    "a= 43\n",
    "b= 34\n",
    "add =a+b\n",
    "print(\"add = \",add)\n"
   ]
  },
  {
   "cell_type": "code",
   "execution_count": 19,
   "id": "81e343fb-afc2-43b8-b3d9-b253c3151863",
   "metadata": {},
   "outputs": [
    {
     "name": "stdout",
     "output_type": "stream",
     "text": [
      "Sub =  9\n"
     ]
    }
   ],
   "source": [
    "#Subtraction\n",
    "a= 43\n",
    "b= 34\n",
    "Sub = a-b\n",
    "print(\"Sub = \",Sub)"
   ]
  },
  {
   "cell_type": "code",
   "execution_count": 21,
   "id": "39945a7b-437f-4db7-a927-653855ff17ba",
   "metadata": {},
   "outputs": [
    {
     "name": "stdout",
     "output_type": "stream",
     "text": [
      "Mul =  6111\n"
     ]
    }
   ],
   "source": [
    "#Multiplication\n",
    "a= 63\n",
    "b= 97\n",
    "Mul = a*b\n",
    "print(\"Mul = \",Mul)"
   ]
  },
  {
   "cell_type": "code",
   "execution_count": 25,
   "id": "1f4d77d5-5d0d-4f62-8968-80b3b0f55d69",
   "metadata": {},
   "outputs": [
    {
     "name": "stdout",
     "output_type": "stream",
     "text": [
      "Float Div =  2.4516129032258065\n"
     ]
    }
   ],
   "source": [
    "#Float Division\n",
    "a= 76\n",
    "b= 31\n",
    "FloatDiv = a/b\n",
    "print(\"Float Div = \",FloatDiv)"
   ]
  },
  {
   "cell_type": "code",
   "execution_count": 29,
   "id": "67164644-2f70-4ec1-b2ff-b998b5c37efa",
   "metadata": {},
   "outputs": [
    {
     "name": "stdout",
     "output_type": "stream",
     "text": [
      "Floor Div =  2\n"
     ]
    }
   ],
   "source": [
    "#Floor division\n",
    "a= 76\n",
    "b= 31\n",
    "FloorDiv = a//b\n",
    "print(\"Floor Div = \",FloorDiv)\n"
   ]
  },
  {
   "cell_type": "code",
   "execution_count": 31,
   "id": "263a2b83-4b8c-4733-8531-4fcc09a629f8",
   "metadata": {},
   "outputs": [
    {
     "name": "stdout",
     "output_type": "stream",
     "text": [
      "Modulo =  14\n"
     ]
    }
   ],
   "source": [
    "#Modulo\n",
    "a= 76\n",
    "b= 31\n",
    "Modulo = a%b\n",
    "print(\"Modulo = \",Modulo)\n",
    "\n",
    "\n",
    "\n",
    "\n"
   ]
  },
  {
   "cell_type": "code",
   "execution_count": 33,
   "id": "0a15bf69-b098-4f05-8c57-4836d38a2c14",
   "metadata": {},
   "outputs": [
    {
     "name": "stdout",
     "output_type": "stream",
     "text": [
      "Power =  256\n"
     ]
    }
   ],
   "source": [
    "#Power\n",
    "a= 4\n",
    "b= 4\n",
    "Power = a**b\n",
    "print(\"Power = \",Power)\n"
   ]
  },
  {
   "cell_type": "code",
   "execution_count": null,
   "id": "1e5d6902-7266-4445-b54b-0fc25d82621f",
   "metadata": {},
   "outputs": [],
   "source": []
  }
 ],
 "metadata": {
  "kernelspec": {
   "display_name": "Python 3 (ipykernel)",
   "language": "python",
   "name": "python3"
  },
  "language_info": {
   "codemirror_mode": {
    "name": "ipython",
    "version": 3
   },
   "file_extension": ".py",
   "mimetype": "text/x-python",
   "name": "python",
   "nbconvert_exporter": "python",
   "pygments_lexer": "ipython3",
   "version": "3.12.7"
  }
 },
 "nbformat": 4,
 "nbformat_minor": 5
}
