{
 "cells": [
  {
   "cell_type": "code",
   "execution_count": null,
   "id": "cbc88a70-f4ee-49a0-82b1-695d4bd8feef",
   "metadata": {},
   "outputs": [],
   "source": [
    "num1=10"
   ]
  },
  {
   "cell_type": "code",
   "execution_count": null,
   "id": "1513f9bf-ac0d-4f96-a4f5-0778d8e29547",
   "metadata": {},
   "outputs": [],
   "source": [
    "num1=10\n",
    "num2=30\n",
    "add=num1+num2\n",
    "print(\"add\")\n",
    "print(add)"
   ]
  },
  {
   "cell_type": "code",
   "execution_count": null,
   "id": "ac6393a0-0955-4249-a944-b0a80979c71d",
   "metadata": {},
   "outputs": [],
   "source": [
    "print(\"The addition of 2 numbers\")\n",
    "num1=10\n",
    "print(\"The number1:\",num1)\n",
    "num2=20\n",
    "print(\"The number2:\",num1)\n",
    "answer=num1+num2\n",
    "print(\"The answer:\",answer)"
   ]
  },
  {
   "cell_type": "code",
   "execution_count": null,
   "id": "ca4d70ee-d5f5-4e63-896d-f51eb7eaaab6",
   "metadata": {},
   "outputs": [],
   "source": [
    "num1=int(input(\"Enter the num1:\"))\n"
   ]
  },
  {
   "cell_type": "code",
   "execution_count": null,
   "id": "e862f33f-6aa0-4875-871e-4c8472333429",
   "metadata": {},
   "outputs": [],
   "source": [
    "num2=int(input(\"Enter the num2:\"))"
   ]
  },
  {
   "cell_type": "code",
   "execution_count": null,
   "id": "ce06ffc9-af4d-4cc1-af7c-c5cfd3f530bd",
   "metadata": {},
   "outputs": [],
   "source": [
    "add=num1+num2"
   ]
  },
  {
   "cell_type": "code",
   "execution_count": null,
   "id": "7393b135-77b9-4495-9349-bb5b78f16cec",
   "metadata": {},
   "outputs": [],
   "source": [
    "print(\"The addition of two numbers will be\",num1+num2)"
   ]
  },
  {
   "cell_type": "code",
   "execution_count": null,
   "id": "eb8be735-78d1-4e6d-8ea5-d9fe6bc4c2aa",
   "metadata": {},
   "outputs": [],
   "source": [
    "num=int(input(\"Enter your full name:\"))"
   ]
  },
  {
   "cell_type": "code",
   "execution_count": null,
   "id": "7f64be73-d051-46c6-b66c-84610f348455",
   "metadata": {},
   "outputs": [],
   "source": []
  },
  {
   "cell_type": "code",
   "execution_count": 1,
   "id": "ef59fd78-153c-4658-9421-b9732c27e907",
   "metadata": {},
   "outputs": [
    {
     "name": "stdin",
     "output_type": "stream",
     "text": [
      "Enter your full name: 3\n"
     ]
    }
   ],
   "source": [
    "num=int(input(\"Enter your full name:\"))\n"
   ]
  },
  {
   "cell_type": "code",
   "execution_count": null,
   "id": "d64278f9-deac-4f80-878e-352a02da7169",
   "metadata": {},
   "outputs": [],
   "source": []
  }
 ],
 "metadata": {
  "kernelspec": {
   "display_name": "Python 3 (ipykernel)",
   "language": "python",
   "name": "python3"
  },
  "language_info": {
   "codemirror_mode": {
    "name": "ipython",
    "version": 3
   },
   "file_extension": ".py",
   "mimetype": "text/x-python",
   "name": "python",
   "nbconvert_exporter": "python",
   "pygments_lexer": "ipython3",
   "version": "3.12.7"
  }
 },
 "nbformat": 4,
 "nbformat_minor": 5
}
