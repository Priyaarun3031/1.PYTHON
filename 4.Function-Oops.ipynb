{
 "cells": [
  {
   "cell_type": "code",
   "execution_count": null,
   "id": "692b14b3-0d55-4fac-a268-ed477c92c26a",
   "metadata": {},
   "outputs": [],
   "source": [
    "age=int(input(\"Enter your age:\"))"
   ]
  },
  {
   "cell_type": "code",
   "execution_count": null,
   "id": "e18872d9-14f8-495f-ab16-4ebc1a220ad0",
   "metadata": {},
   "outputs": [],
   "source": []
  },
  {
   "cell_type": "code",
   "execution_count": null,
   "id": "3fa88fcb-db69-47bf-bd72-dd0797f47895",
   "metadata": {},
   "outputs": [],
   "source": [
    "if age==18:"
   ]
  },
  {
   "cell_type": "code",
   "execution_count": null,
   "id": "17518937-dd2d-480c-be58-8e9da27eaf08",
   "metadata": {},
   "outputs": [],
   "source": [
    "print(\"adult\")"
   ]
  },
  {
   "cell_type": "code",
   "execution_count": null,
   "id": "dc1fbdb4-20ef-45bf-9833-63ad3d6bfec0",
   "metadata": {},
   "outputs": [],
   "source": [
    "#condition is if age is less than 18 print child and if age is greater than or equal to 18 print adult\n",
    "age=(int(input(\"Enter your age:\")))\n",
    "if age>18:\n",
    "     print(\"You are a Child\")\n",
    "else:\n",
    "     print(\"You are an Adult\")\n",
    "    \n"
   ]
  },
  {
   "cell_type": "code",
   "execution_count": null,
   "id": "364ee54f-b402-406e-9b5f-2f60953f4fed",
   "metadata": {},
   "outputs": [],
   "source": [
    "#if age<18 = child, age<35 - adult,age<59, age>59 - senior citizen\n",
    "age=(int(input(\"Enter your age:\")))\n",
    "if age<=18:\n",
    "         print(\"You are a Child\")\n",
    "elif age>=18 and age<=35:\n",
    "    print(\"You are an adult\") \n",
    "elif age>=35 and age<59:\n",
    "        print(\"You are an citizen\")\n",
    "else:\n",
    "    print(\"You are a senior citizen\")\n",
    "\n",
    "          \n"
   ]
  },
  {
   "cell_type": "code",
   "execution_count": null,
   "id": "fc8ba539-479f-4f31-8486-25cde19eabc1",
   "metadata": {},
   "outputs": [],
   "source": [
    "lists=[27,87,29,90,21]\n",
    "for temp in lists:\n",
    "    print(temp)"
   ]
  },
  {
   "cell_type": "code",
   "execution_count": null,
   "id": "c151b4cd-3280-4640-ab9e-528a4a62f84c",
   "metadata": {},
   "outputs": [],
   "source": [
    "for age in lists:\n",
    "    if age<=18:\n",
    "         print(\"You are a Child\")\n",
    "    elif age>=18 and age<=35:\n",
    "         print(\"You are an adult\") \n",
    "    elif age>=35 and age<59:\n",
    "         print(\"You are an citizen\")\n",
    "    else:\n",
    "         print(\"You are a senior citizen\")\n",
    "            "
   ]
  },
  {
   "cell_type": "code",
   "execution_count": null,
   "id": "808588b7-830a-4030-8a73-7bee65ce3bb2",
   "metadata": {},
   "outputs": [],
   "source": [
    "#if you get remainder as 1, it is odd number or else even number if the remainder is 0\n",
    "#2/2=0, if reminder is o means even number, reminder 1 means odd number"
   ]
  },
  {
   "cell_type": "code",
   "execution_count": null,
   "id": "c18d3eeb-7fd0-4b15-a651-2a22f7c2e733",
   "metadata": {},
   "outputs": [],
   "source": [
    "number=int(input(\"Enter the Number: \"))\n",
    "if number%2==0:\n",
    "    print(\"The given number is even\")\n",
    "else:\n",
    "    print(\"The given number is odd\")\n"
   ]
  },
  {
   "cell_type": "code",
   "execution_count": null,
   "id": "540c46d5-d7f3-4f2b-b52a-3a560bf10ba3",
   "metadata": {},
   "outputs": [],
   "source": [
    "#to find out if a person is diabletic or not, if fasting sugar<120, then not diabetic, if fasting sugar is between 120-170, then pre-diabletic, else normal\n",
    "person=(input(\"Enter your Name: \"))\n",
    "age=int(input(\"Enter your Age: \"))\n",
    "fastingsugar=int(input(\"Enter your Sugar level: \"))\n",
    "if fastingsugar<120:\n",
    "    print(\"You are Normal, Enjoy your life\")\n",
    "elif fastingsugar>120 and fastingsugar<170:\n",
    "    print(\"You are Pre Diabletic, please make lifestyle changes and healthy diet to prevent diabetes\")\n",
    "else:\n",
    "    print(\"You are Diabletic, please take proper Medication\")"
   ]
  },
  {
   "cell_type": "code",
   "execution_count": null,
   "id": "d7726a10-efd8-4d00-a5de-ead35cf125b2",
   "metadata": {},
   "outputs": [],
   "source": [
    "#range function practice\n",
    "for num in range(20,30,5):\n",
    "    print(num)\n",
    "    \n"
   ]
  },
  {
   "cell_type": "code",
   "execution_count": 5,
   "id": "568d499f-0f4c-456c-98e0-79c4c47a0559",
   "metadata": {},
   "outputs": [
    {
     "name": "stdout",
     "output_type": "stream",
     "text": [
      "You are a Child\n",
      "You are an Adult\n",
      "You are a Citizen\n",
      "You are a Senior Citizen\n"
     ]
    }
   ],
   "source": [
    "lists = [10, 22, 36, 60] \n",
    "\n",
    "def AgeCategory():\n",
    "    for age in lists:\n",
    "        if age <= 18:\n",
    "            print(\"You are a Child\")\n",
    "        elif 19 <= age <= 35:\n",
    "            print(\"You are an Adult\")\n",
    "        elif 36 <= age < 59:\n",
    "            print(\"You are a Citizen\")\n",
    "        else:\n",
    "            print(\"You are a Senior Citizen\")\n",
    "\n",
    "# Call the function\n",
    "AgeCategory()\n"
   ]
  },
  {
   "cell_type": "code",
   "execution_count": 11,
   "id": "a61037cd-3bb2-4ed3-b71c-84a3096c77a6",
   "metadata": {},
   "outputs": [],
   "source": [
    "def oddeven():\n",
    "    number=int(input(\"Enter the Number: \"))\n",
    "    if number%2==0:\n",
    "        print(\"The given number is even\")\n",
    "        message=\"Odd Number\"\n",
    "    else:\n",
    "        print(\"The given number is odd\")\n",
    "        message=\"Even Number\"\n",
    "    return message\n",
    "    "
   ]
  },
  {
   "cell_type": "code",
   "execution_count": 13,
   "id": "203db17a-35ef-410e-9246-c421ef999c58",
   "metadata": {},
   "outputs": [
    {
     "name": "stdin",
     "output_type": "stream",
     "text": [
      "Enter the Number:  6\n"
     ]
    },
    {
     "name": "stdout",
     "output_type": "stream",
     "text": [
      "The given number is even\n"
     ]
    },
    {
     "data": {
      "text/plain": [
       "'Odd Number'"
      ]
     },
     "execution_count": 13,
     "metadata": {},
     "output_type": "execute_result"
    }
   ],
   "source": [
    "oddeven()"
   ]
  },
  {
   "cell_type": "code",
   "execution_count": 17,
   "id": "8cf34622-24b7-4555-a41f-99fa278e8e0a",
   "metadata": {},
   "outputs": [
    {
     "name": "stdin",
     "output_type": "stream",
     "text": [
      "Enter the Number:  7\n"
     ]
    },
    {
     "name": "stdout",
     "output_type": "stream",
     "text": [
      "The given number is odd\n"
     ]
    }
   ],
   "source": [
    "oddeven=oddeven()"
   ]
  },
  {
   "cell_type": "code",
   "execution_count": 19,
   "id": "e040f040-8eb4-41e5-b494-e1a1d680dfa3",
   "metadata": {},
   "outputs": [
    {
     "data": {
      "text/plain": [
       "'Even Number'"
      ]
     },
     "execution_count": 19,
     "metadata": {},
     "output_type": "execute_result"
    }
   ],
   "source": [
    "oddeven"
   ]
  },
  {
   "cell_type": "code",
   "execution_count": null,
   "id": "aa630081-a4de-496a-80a0-a4f8d3a6aca9",
   "metadata": {},
   "outputs": [],
   "source": []
  }
 ],
 "metadata": {
  "kernelspec": {
   "display_name": "Python 3 (ipykernel)",
   "language": "python",
   "name": "python3"
  },
  "language_info": {
   "codemirror_mode": {
    "name": "ipython",
    "version": 3
   },
   "file_extension": ".py",
   "mimetype": "text/x-python",
   "name": "python",
   "nbconvert_exporter": "python",
   "pygments_lexer": "ipython3",
   "version": "3.12.7"
  }
 },
 "nbformat": 4,
 "nbformat_minor": 5
}
