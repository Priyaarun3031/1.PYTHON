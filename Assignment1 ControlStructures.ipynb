{
 "cells": [
  {
   "cell_type": "code",
   "execution_count": 11,
   "id": "9d0f8fe2-5f71-4532-a891-c13de51f919d",
   "metadata": {},
   "outputs": [
    {
     "name": "stdout",
     "output_type": "stream",
     "text": [
      "The sum of two numbers is: 40\n"
     ]
    }
   ],
   "source": [
    "num1=10\n",
    "num2=30\n",
    "add=num1+num2\n",
    "print(\"The sum of two numbers is:\",add)"
   ]
  },
  {
   "cell_type": "code",
   "execution_count": 35,
   "id": "b24b055d-1389-4ec7-9c0c-04447734a887",
   "metadata": {},
   "outputs": [
    {
     "name": "stdin",
     "output_type": "stream",
     "text": [
      "Enter the BMI Index:  25\n"
     ]
    },
    {
     "name": "stdout",
     "output_type": "stream",
     "text": [
      "You are Pre-Obese, so be cautious about your diet pattern and lifestye\n"
     ]
    }
   ],
   "source": [
    "#BMI Program\n",
    "BMI=int(input(\"Enter the BMI Index: \"))\n",
    "if BMI<18.5:\n",
    "    print(\"You are Underweight, so eat well\")\n",
    "elif BMI<=18.5 and BMI<=24.9:\n",
    "    print(\"You are under Normal weight category, so enjoy your life\")\n",
    "elif BMI<=25 and BMI<=29.9:\n",
    "        print(\"You are Pre-Obese, so be cautious about your diet pattern and lifestye\")\n",
    "elif BMI<=30 and BMI<=34.9:\n",
    "        print(\"You are Very Overweight or Obese Class I, so be careful about your diet pattern and start exercising.\")\n",
    "elif BMI<=35 and BMI<=39.9:\n",
    "        print (\"You fall under Obese Class II, so be extremely careful about your diet pattern and start exercising.\")\n",
    "else:\n",
    "    print(\"You fall under Obese Class III, which is highly risky for your health, so immediately change your lifestly and take medical advice\")"
   ]
  },
  {
   "cell_type": "code",
   "execution_count": null,
   "id": "cd271fc6-63e1-49e0-887d-1ab2563bd8ca",
   "metadata": {},
   "outputs": [],
   "source": []
  }
 ],
 "metadata": {
  "kernelspec": {
   "display_name": "Python 3 (ipykernel)",
   "language": "python",
   "name": "python3"
  },
  "language_info": {
   "codemirror_mode": {
    "name": "ipython",
    "version": 3
   },
   "file_extension": ".py",
   "mimetype": "text/x-python",
   "name": "python",
   "nbconvert_exporter": "python",
   "pygments_lexer": "ipython3",
   "version": "3.12.7"
  }
 },
 "nbformat": 4,
 "nbformat_minor": 5
}
