{
 "cells": [
  {
   "cell_type": "code",
   "execution_count": 11,
   "id": "eb8f3cff-f377-4836-ba50-19eef81d6cb0",
   "metadata": {},
   "outputs": [
    {
     "name": "stdout",
     "output_type": "stream",
     "text": [
      "value 10\n",
      "CORRECT\n"
     ]
    }
   ],
   "source": [
    "# print 'CORRECT' if i == 10\n",
    "i=10\n",
    "if i==10:\n",
    "    print(\"value\" ,i)\n",
    "    print(\"CORRECT\")\n",
    "   "
   ]
  },
  {
   "cell_type": "code",
   "execution_count": 26,
   "id": "ef338f01-449f-41dc-a978-cb7a06946730",
   "metadata": {},
   "outputs": [
    {
     "name": "stdin",
     "output_type": "stream",
     "text": [
      "Enter the password:  HOPE@123\n"
     ]
    },
    {
     "name": "stdout",
     "output_type": "stream",
     "text": [
      "Your password is correct\n"
     ]
    }
   ],
   "source": [
    "#Check the password, using if and else\n",
    "password=(input(\"Enter the password: \"))\n",
    "if password==\"HOPE@123\":    \n",
    "    print(\"Your password is correct\")\n"
   ]
  },
  {
   "cell_type": "code",
   "execution_count": 32,
   "id": "431eb2a0-81e9-4d5f-8b8a-36bc30f238b3",
   "metadata": {},
   "outputs": [
    {
     "name": "stdout",
     "output_type": "stream",
     "text": [
      "adult\n"
     ]
    }
   ],
   "source": [
    "# Catagory the people by their age like children, adult, citizen, senior citizen...\n",
    "age = 20\n",
    "if(age < 20):\n",
    "    print(\"children\")\n",
    "elif(age == 20 ):\n",
    "    print(\"adult\")\n",
    "elif(age == 50):\n",
    "    print(\"citizen\")\n",
    "elif( age == 75):\n",
    "    print(\"senior citizen\")\n"
   ]
  },
  {
   "cell_type": "code",
   "execution_count": 58,
   "id": "5605a469-861c-46ab-a9bb-44d27c82171c",
   "metadata": {},
   "outputs": [
    {
     "name": "stdin",
     "output_type": "stream",
     "text": [
      "Enter any number:  1233\n"
     ]
    },
    {
     "name": "stdout",
     "output_type": "stream",
     "text": [
      "No is positive\n"
     ]
    }
   ],
   "source": [
    "# Find whether given number is positive or negative\n",
    "number=float(input(\"Enter any number: \"))\n",
    "if number>0:\n",
    "    print(\"No is positive\")\n",
    "else:\n",
    "    print(\"No is negative\")"
   ]
  },
  {
   "cell_type": "code",
   "execution_count": 54,
   "id": "cf6e8c1c-9c53-4ca6-b0e5-3511b01b7972",
   "metadata": {},
   "outputs": [
    {
     "name": "stdin",
     "output_type": "stream",
     "text": [
      "Enter a number to check:  10000\n"
     ]
    },
    {
     "name": "stdout",
     "output_type": "stream",
     "text": [
      "No is divisible by 5\n"
     ]
    }
   ],
   "source": [
    "#Check whether the given number is divisible by 5\n",
    "number=int(input(\"Enter a number to check: \"))\n",
    "if number % 5 != 0 :\n",
    "    print(\"No is not divisible by 5\")\n",
    "else:\n",
    "    print(\"No is divisible by 5\")\n",
    "\n"
   ]
  },
  {
   "cell_type": "code",
   "execution_count": null,
   "id": "8c166dc2-64e4-42c4-92cb-d4e440389567",
   "metadata": {},
   "outputs": [],
   "source": []
  }
 ],
 "metadata": {
  "kernelspec": {
   "display_name": "Python 3 (ipykernel)",
   "language": "python",
   "name": "python3"
  },
  "language_info": {
   "codemirror_mode": {
    "name": "ipython",
    "version": 3
   },
   "file_extension": ".py",
   "mimetype": "text/x-python",
   "name": "python",
   "nbconvert_exporter": "python",
   "pygments_lexer": "ipython3",
   "version": "3.12.7"
  }
 },
 "nbformat": 4,
 "nbformat_minor": 5
}
